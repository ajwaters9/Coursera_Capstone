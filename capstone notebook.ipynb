{
 "cells": [
  {
   "cell_type": "markdown",
   "id": "9dbb72ad-45cc-4026-8199-032f1cdcfb82",
   "metadata": {},
   "source": [
    "This notebook will be mainly used for the Applied Data Science Capstone project"
   ]
  },
  {
   "cell_type": "code",
   "execution_count": 2,
   "id": "a3f3a0d1-d059-4341-a712-bd079a782ae5",
   "metadata": {},
   "outputs": [
    {
     "name": "stdout",
     "output_type": "stream",
     "text": [
      "Hello Capstone Project Course!\n"
     ]
    }
   ],
   "source": [
    "import pandas as pd\n",
    "import numpy as np\n",
    "\n",
    "print('Hello Capstone Project Course!')"
   ]
  },
  {
   "cell_type": "code",
   "execution_count": null,
   "id": "7ed75229-dcac-43ec-bb0f-1850f3b076c0",
   "metadata": {},
   "outputs": [],
   "source": []
  }
 ],
 "metadata": {
  "kernelspec": {
   "display_name": "Python",
   "language": "python",
   "name": "conda-env-python-py"
  },
  "language_info": {
   "codemirror_mode": {
    "name": "ipython",
    "version": 3
   },
   "file_extension": ".py",
   "mimetype": "text/x-python",
   "name": "python",
   "nbconvert_exporter": "python",
   "pygments_lexer": "ipython3",
   "version": "3.6.13"
  }
 },
 "nbformat": 4,
 "nbformat_minor": 5
}
